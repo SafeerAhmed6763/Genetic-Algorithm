{
 "cells": [
  {
   "cell_type": "code",
   "execution_count": 181,
   "metadata": {
    "collapsed": true
   },
   "outputs": [],
   "source": [
    "# Deficiencies\n",
    "import pandas as pd\n",
    "import numpy as np"
   ]
  },
  {
   "cell_type": "code",
   "execution_count": 182,
   "metadata": {
    "collapsed": false
   },
   "outputs": [
    {
     "data": {
      "text/html": [
       "<div>\n",
       "<table border=\"1\" class=\"dataframe\">\n",
       "  <thead>\n",
       "    <tr style=\"text-align: right;\">\n",
       "      <th></th>\n",
       "      <th>Zip Code</th>\n",
       "      <th>Age</th>\n",
       "      <th>Disease</th>\n",
       "    </tr>\n",
       "  </thead>\n",
       "  <tbody>\n",
       "    <tr>\n",
       "      <th>0</th>\n",
       "      <td>47602</td>\n",
       "      <td>22</td>\n",
       "      <td>Heart Disease</td>\n",
       "    </tr>\n",
       "    <tr>\n",
       "      <th>1</th>\n",
       "      <td>47678</td>\n",
       "      <td>27</td>\n",
       "      <td>Heart Disease</td>\n",
       "    </tr>\n",
       "    <tr>\n",
       "      <th>2</th>\n",
       "      <td>47677</td>\n",
       "      <td>29</td>\n",
       "      <td>Heart Disease</td>\n",
       "    </tr>\n",
       "    <tr>\n",
       "      <th>3</th>\n",
       "      <td>47605</td>\n",
       "      <td>30</td>\n",
       "      <td>Heart Disease</td>\n",
       "    </tr>\n",
       "    <tr>\n",
       "      <th>4</th>\n",
       "      <td>47607</td>\n",
       "      <td>32</td>\n",
       "      <td>Cancer</td>\n",
       "    </tr>\n",
       "    <tr>\n",
       "      <th>5</th>\n",
       "      <td>47673</td>\n",
       "      <td>36</td>\n",
       "      <td>Cancer</td>\n",
       "    </tr>\n",
       "    <tr>\n",
       "      <th>6</th>\n",
       "      <td>47905</td>\n",
       "      <td>43</td>\n",
       "      <td>Flu</td>\n",
       "    </tr>\n",
       "    <tr>\n",
       "      <th>7</th>\n",
       "      <td>47906</td>\n",
       "      <td>47</td>\n",
       "      <td>Cancer</td>\n",
       "    </tr>\n",
       "    <tr>\n",
       "      <th>8</th>\n",
       "      <td>47909</td>\n",
       "      <td>52</td>\n",
       "      <td>Heart Disease</td>\n",
       "    </tr>\n",
       "  </tbody>\n",
       "</table>\n",
       "</div>"
      ],
      "text/plain": [
       "   Zip Code  Age        Disease\n",
       "0     47602   22  Heart Disease\n",
       "1     47678   27  Heart Disease\n",
       "2     47677   29  Heart Disease\n",
       "3     47605   30  Heart Disease\n",
       "4     47607   32         Cancer\n",
       "5     47673   36         Cancer\n",
       "6     47905   43            Flu\n",
       "7     47906   47         Cancer\n",
       "8     47909   52  Heart Disease"
      ]
     },
     "execution_count": 182,
     "metadata": {},
     "output_type": "execute_result"
    }
   ],
   "source": [
    "Data = pd.read_csv('DataSets/Data.csv')\n",
    "Data"
   ]
  },
  {
   "cell_type": "code",
   "execution_count": 183,
   "metadata": {
    "collapsed": false
   },
   "outputs": [
    {
     "data": {
      "text/plain": [
       "array([[47602L, 22L, 'Heart Disease'],\n",
       "       [47678L, 27L, 'Heart Disease'],\n",
       "       [47677L, 29L, 'Heart Disease'],\n",
       "       [47605L, 30L, 'Heart Disease'],\n",
       "       [47607L, 32L, 'Cancer'],\n",
       "       [47673L, 36L, 'Cancer'],\n",
       "       [47905L, 43L, 'Flu'],\n",
       "       [47906L, 47L, 'Cancer'],\n",
       "       [47909L, 52L, 'Heart Disease']], dtype=object)"
      ]
     },
     "execution_count": 183,
     "metadata": {},
     "output_type": "execute_result"
    }
   ],
   "source": [
    "Data = Data.as_matrix()\n",
    "Data"
   ]
  },
  {
   "cell_type": "code",
   "execution_count": 184,
   "metadata": {
    "collapsed": false
   },
   "outputs": [
    {
     "data": {
      "text/plain": [
       "47602L"
      ]
     },
     "execution_count": 184,
     "metadata": {},
     "output_type": "execute_result"
    }
   ],
   "source": [
    "Data[0][0]"
   ]
  },
  {
   "cell_type": "code",
   "execution_count": 185,
   "metadata": {
    "collapsed": false
   },
   "outputs": [],
   "source": [
    "for i in range(0,9):\n",
    "    Data[i][1] = str(Data[i][1])[0] + '*' \n",
    "\n",
    "\n",
    "for i in range(0,6):\n",
    "    Data[i][0] = str(Data[i][0])[0:3] + '**'\n",
    "    \n",
    "for i in range(6,9):\n",
    "    Data[i][0] = str(Data[i][0])[0:4] + '*'"
   ]
  },
  {
   "cell_type": "code",
   "execution_count": 186,
   "metadata": {
    "collapsed": false
   },
   "outputs": [
    {
     "data": {
      "text/plain": [
       "array([['476**', '2*', 'Heart Disease'],\n",
       "       ['476**', '2*', 'Heart Disease'],\n",
       "       ['476**', '2*', 'Heart Disease'],\n",
       "       ['476**', '3*', 'Heart Disease'],\n",
       "       ['476**', '3*', 'Cancer'],\n",
       "       ['476**', '3*', 'Cancer'],\n",
       "       ['4790*', '4*', 'Flu'],\n",
       "       ['4790*', '4*', 'Cancer'],\n",
       "       ['4790*', '5*', 'Heart Disease']], dtype=object)"
      ]
     },
     "execution_count": 186,
     "metadata": {},
     "output_type": "execute_result"
    }
   ],
   "source": [
    "Data"
   ]
  },
  {
   "cell_type": "code",
   "execution_count": 187,
   "metadata": {
    "collapsed": false
   },
   "outputs": [
    {
     "data": {
      "text/html": [
       "<div>\n",
       "<table border=\"1\" class=\"dataframe\">\n",
       "  <thead>\n",
       "    <tr style=\"text-align: right;\">\n",
       "      <th></th>\n",
       "      <th>0</th>\n",
       "      <th>1</th>\n",
       "      <th>2</th>\n",
       "    </tr>\n",
       "  </thead>\n",
       "  <tbody>\n",
       "    <tr>\n",
       "      <th>0</th>\n",
       "      <td>476**</td>\n",
       "      <td>2*</td>\n",
       "      <td>Heart Disease</td>\n",
       "    </tr>\n",
       "    <tr>\n",
       "      <th>1</th>\n",
       "      <td>476**</td>\n",
       "      <td>2*</td>\n",
       "      <td>Heart Disease</td>\n",
       "    </tr>\n",
       "    <tr>\n",
       "      <th>2</th>\n",
       "      <td>476**</td>\n",
       "      <td>2*</td>\n",
       "      <td>Heart Disease</td>\n",
       "    </tr>\n",
       "    <tr>\n",
       "      <th>3</th>\n",
       "      <td>476**</td>\n",
       "      <td>3*</td>\n",
       "      <td>Heart Disease</td>\n",
       "    </tr>\n",
       "    <tr>\n",
       "      <th>4</th>\n",
       "      <td>476**</td>\n",
       "      <td>3*</td>\n",
       "      <td>Cancer</td>\n",
       "    </tr>\n",
       "    <tr>\n",
       "      <th>5</th>\n",
       "      <td>476**</td>\n",
       "      <td>3*</td>\n",
       "      <td>Cancer</td>\n",
       "    </tr>\n",
       "    <tr>\n",
       "      <th>6</th>\n",
       "      <td>4790*</td>\n",
       "      <td>4*</td>\n",
       "      <td>Flu</td>\n",
       "    </tr>\n",
       "    <tr>\n",
       "      <th>7</th>\n",
       "      <td>4790*</td>\n",
       "      <td>4*</td>\n",
       "      <td>Cancer</td>\n",
       "    </tr>\n",
       "    <tr>\n",
       "      <th>8</th>\n",
       "      <td>4790*</td>\n",
       "      <td>5*</td>\n",
       "      <td>Heart Disease</td>\n",
       "    </tr>\n",
       "  </tbody>\n",
       "</table>\n",
       "</div>"
      ],
      "text/plain": [
       "       0   1              2\n",
       "0  476**  2*  Heart Disease\n",
       "1  476**  2*  Heart Disease\n",
       "2  476**  2*  Heart Disease\n",
       "3  476**  3*  Heart Disease\n",
       "4  476**  3*         Cancer\n",
       "5  476**  3*         Cancer\n",
       "6  4790*  4*            Flu\n",
       "7  4790*  4*         Cancer\n",
       "8  4790*  5*  Heart Disease"
      ]
     },
     "execution_count": 187,
     "metadata": {},
     "output_type": "execute_result"
    }
   ],
   "source": [
    "pd.DataFrame(Data)"
   ]
  },
  {
   "cell_type": "code",
   "execution_count": null,
   "metadata": {
    "collapsed": true
   },
   "outputs": [],
   "source": []
  }
 ],
 "metadata": {
  "kernelspec": {
   "display_name": "Python 2",
   "language": "python",
   "name": "python2"
  },
  "language_info": {
   "codemirror_mode": {
    "name": "ipython",
    "version": 2
   },
   "file_extension": ".py",
   "mimetype": "text/x-python",
   "name": "python",
   "nbconvert_exporter": "python",
   "pygments_lexer": "ipython2",
   "version": "2.7.13"
  }
 },
 "nbformat": 4,
 "nbformat_minor": 2
}
