{
 "cells": [
  {
   "cell_type": "code",
   "execution_count": 157,
   "metadata": {
    "collapsed": true
   },
   "outputs": [],
   "source": [
    "#find P and clossness using GA"
   ]
  },
  {
   "cell_type": "code",
   "execution_count": 158,
   "metadata": {
    "collapsed": true
   },
   "outputs": [],
   "source": [
    "# Deficiencies\n",
    "import time\n",
    "import psutil\n",
    "import math\n",
    "import pandas\n",
    "import random\n",
    "import numpy as np\n",
    "from __future__ import division\n",
    "import matplotlib.pyplot as plt"
   ]
  },
  {
   "cell_type": "code",
   "execution_count": 159,
   "metadata": {
    "collapsed": true
   },
   "outputs": [],
   "source": [
    "# Performnace \n",
    "cpuPer = []\n",
    "memPer = []\n",
    "cpuPer.append(psutil.cpu_percent())\n",
    "memPer.append(psutil.virtual_memory()[2])"
   ]
  },
  {
   "cell_type": "code",
   "execution_count": 160,
   "metadata": {
    "collapsed": false
   },
   "outputs": [
    {
     "data": {
      "text/html": [
       "<div>\n",
       "<table border=\"1\" class=\"dataframe\">\n",
       "  <thead>\n",
       "    <tr style=\"text-align: right;\">\n",
       "      <th></th>\n",
       "      <th>salary</th>\n",
       "    </tr>\n",
       "  </thead>\n",
       "  <tbody>\n",
       "    <tr>\n",
       "      <th>0</th>\n",
       "      <td>3</td>\n",
       "    </tr>\n",
       "    <tr>\n",
       "      <th>1</th>\n",
       "      <td>4</td>\n",
       "    </tr>\n",
       "    <tr>\n",
       "      <th>2</th>\n",
       "      <td>5</td>\n",
       "    </tr>\n",
       "    <tr>\n",
       "      <th>3</th>\n",
       "      <td>6</td>\n",
       "    </tr>\n",
       "    <tr>\n",
       "      <th>4</th>\n",
       "      <td>7</td>\n",
       "    </tr>\n",
       "    <tr>\n",
       "      <th>5</th>\n",
       "      <td>8</td>\n",
       "    </tr>\n",
       "    <tr>\n",
       "      <th>6</th>\n",
       "      <td>9</td>\n",
       "    </tr>\n",
       "    <tr>\n",
       "      <th>7</th>\n",
       "      <td>10</td>\n",
       "    </tr>\n",
       "    <tr>\n",
       "      <th>8</th>\n",
       "      <td>11</td>\n",
       "    </tr>\n",
       "  </tbody>\n",
       "</table>\n",
       "</div>"
      ],
      "text/plain": [
       "   salary\n",
       "0       3\n",
       "1       4\n",
       "2       5\n",
       "3       6\n",
       "4       7\n",
       "5       8\n",
       "6       9\n",
       "7      10\n",
       "8      11"
      ]
     },
     "execution_count": 160,
     "metadata": {},
     "output_type": "execute_result"
    }
   ],
   "source": [
    "# Performnace measure\n",
    "cpuPer.append(psutil.cpu_percent())\n",
    "memPer.append(psutil.virtual_memory()[2])\n",
    "#------------------------------------------\n",
    "Data = pandas.read_csv('DataSets/example.csv')\n",
    "size = Data.shape\n",
    "sizeOfAttribute = size[0]\n",
    "\n",
    "# Size of P etc S = 0.5 for half\n",
    "S = 0.33\n",
    "\n",
    "sizeOfP = S * sizeOfAttribute\n",
    "sizeOfP = math.ceil(sizeOfP)\n",
    "sizeOfP = int(sizeOfP)\n",
    "Data\n"
   ]
  },
  {
   "cell_type": "code",
   "execution_count": 161,
   "metadata": {
    "collapsed": false
   },
   "outputs": [],
   "source": [
    "# GA implementation form here\n",
    "#data = Data.ix[:,1].as_matrix()\n",
    "data = Data.as_matrix()\n",
    "data = data.flatten()\n",
    "# Performnace measure\n",
    "cpuPer.append(psutil.cpu_percent())\n",
    "memPer.append(psutil.virtual_memory()[2])\n",
    "#------------------------------------------"
   ]
  },
  {
   "cell_type": "code",
   "execution_count": 162,
   "metadata": {
    "collapsed": false
   },
   "outputs": [],
   "source": [
    "# create population\n",
    "psize = 50\n",
    "rr = random.sample(range(sizeOfAttribute), sizeOfP)\n",
    "pp = np.asmatrix(rr)\n",
    "\n",
    "# Performnace measure\n",
    "cpuPer.append(psutil.cpu_percent())\n",
    "memPer.append(psutil.virtual_memory()[2])\n",
    "#------------------------------------------\n",
    "\n",
    "for f in range(psize-1):\n",
    "    rr = random.sample(range(sizeOfAttribute), sizeOfP)\n",
    "    r1 = np.asmatrix(rr)\n",
    "    pp = np.concatenate((pp, r1), axis=0)\n",
    "pt = pp\n",
    "\n",
    "\n",
    "\n",
    "for f in range(psize):\n",
    "    for t in range(sizeOfP):\n",
    "        pt[f,t] = data[pt[f,t]]\n",
    "ptt = pt\n",
    "ptt.sort(axis=1)\n",
    "# Performnace measure\n",
    "cpuPer.append(psutil.cpu_percent())\n",
    "memPer.append(psutil.virtual_memory()[2])\n",
    "#------------------------------------------"
   ]
  },
  {
   "cell_type": "code",
   "execution_count": 163,
   "metadata": {
    "collapsed": false
   },
   "outputs": [
    {
     "data": {
      "text/plain": [
       "matrix([[ 5,  6,  8],\n",
       "        [ 4,  6,  9],\n",
       "        [ 5,  8, 11],\n",
       "        [ 3,  4,  8],\n",
       "        [ 4,  5,  9],\n",
       "        [ 8,  9, 10],\n",
       "        [ 9, 10, 11],\n",
       "        [ 3,  5,  6],\n",
       "        [ 4,  9, 11],\n",
       "        [ 3,  8, 11],\n",
       "        [ 3,  9, 10],\n",
       "        [ 4,  5,  7],\n",
       "        [ 3,  6,  7],\n",
       "        [ 5,  7,  8],\n",
       "        [ 3,  7,  9],\n",
       "        [ 6,  8,  9],\n",
       "        [ 6,  7,  9],\n",
       "        [ 4,  9, 11],\n",
       "        [ 9, 10, 11],\n",
       "        [ 4,  7,  8],\n",
       "        [ 5, 10, 11],\n",
       "        [ 5,  8,  9],\n",
       "        [ 5,  7, 11],\n",
       "        [ 7,  9, 10],\n",
       "        [ 3,  4, 10],\n",
       "        [ 3,  6, 11],\n",
       "        [ 3,  7, 10],\n",
       "        [ 3, 10, 11],\n",
       "        [ 4,  6, 10],\n",
       "        [ 5,  8, 11],\n",
       "        [ 3,  4, 10],\n",
       "        [ 5,  6, 11],\n",
       "        [ 7,  8, 11],\n",
       "        [ 6,  7, 10],\n",
       "        [ 7, 10, 11],\n",
       "        [ 5,  9, 10],\n",
       "        [ 5,  6,  7],\n",
       "        [ 4,  6, 10],\n",
       "        [ 3,  7,  8],\n",
       "        [ 6,  7, 10],\n",
       "        [ 4,  7,  8],\n",
       "        [ 3,  6, 10],\n",
       "        [ 4,  7,  9],\n",
       "        [ 6,  7,  8],\n",
       "        [ 7,  8, 11],\n",
       "        [ 4,  5, 10],\n",
       "        [ 6,  9, 11],\n",
       "        [ 7,  9, 10],\n",
       "        [ 4,  7, 10],\n",
       "        [ 5,  8,  9]])"
      ]
     },
     "execution_count": 163,
     "metadata": {},
     "output_type": "execute_result"
    }
   ],
   "source": [
    "ptt"
   ]
  },
  {
   "cell_type": "code",
   "execution_count": 164,
   "metadata": {
    "collapsed": false
   },
   "outputs": [],
   "source": [
    "# fitness function\n",
    "ss = int (1/S)\n",
    "dl = Data.shape[0]\n",
    "fit = []\n",
    "\n",
    "\n",
    "\n",
    "for k in range(psize):\n",
    "    ans = 0\n",
    "    t = 0\n",
    "    m = 0\n",
    "    for i in range(sizeOfP):\n",
    "        for j in range(ss):\n",
    "            ans = ans + abs(ptt[k,i] - data[t])\n",
    "            if(ptt[k,i] != data[t]):\n",
    "                m = m + 1\n",
    "            t = t + 1\n",
    "    fit.append( (1/dl) * (ans/m) )\n",
    "\n",
    "# Performnace measure\n",
    "cpuPer.append(psutil.cpu_percent())\n",
    "memPer.append(psutil.virtual_memory()[2])\n",
    "#------------------------------------------"
   ]
  },
  {
   "cell_type": "code",
   "execution_count": 165,
   "metadata": {
    "collapsed": false
   },
   "outputs": [
    {
     "name": "stdout",
     "output_type": "stream",
     "text": [
      "0.190476190476\n",
      "0.148148148148\n",
      "0.166666666667\n",
      "0.25\n",
      "0.174603174603\n",
      "0.277777777778\n",
      "0.375\n",
      "0.291666666667\n",
      "0.174603174603\n",
      "0.166666666667\n",
      "0.174603174603\n",
      "0.236111111111\n",
      "0.238095238095\n",
      "0.174603174603\n",
      "0.148148148148\n",
      "0.190476190476\n",
      "0.174603174603\n",
      "0.174603174603\n",
      "0.375\n",
      "0.15873015873\n",
      "0.238095238095\n",
      "0.166666666667\n",
      "0.148148148148\n",
      "0.236111111111\n",
      "0.222222222222\n",
      "0.166666666667\n",
      "0.12962962963\n",
      "0.238095238095\n",
      "0.12962962963\n",
      "0.166666666667\n",
      "0.222222222222\n",
      "0.166666666667\n",
      "0.238095238095\n",
      "0.15873015873\n",
      "0.291666666667\n",
      "0.174603174603\n",
      "0.238095238095\n",
      "0.12962962963\n",
      "0.174603174603\n",
      "0.15873015873\n",
      "0.15873015873\n",
      "0.148148148148\n",
      "0.12962962963\n",
      "0.194444444444\n",
      "0.238095238095\n",
      "0.15873015873\n",
      "0.208333333333\n",
      "0.236111111111\n",
      "0.111111111111\n",
      "0.166666666667\n"
     ]
    }
   ],
   "source": [
    "\n",
    "\n",
    "for f in fit :\n",
    "    if (f ):\n",
    "        print f"
   ]
  },
  {
   "cell_type": "code",
   "execution_count": 166,
   "metadata": {
    "collapsed": false
   },
   "outputs": [],
   "source": [
    "fit  = np.asarray(fit)\n",
    "bestT = np.where(fit == fit.min())\n",
    "# Performnace measure\n",
    "cpuPer.append(psutil.cpu_percent())\n",
    "memPer.append(psutil.virtual_memory()[2])\n",
    "#------------------------------------------"
   ]
  },
  {
   "cell_type": "code",
   "execution_count": 167,
   "metadata": {
    "collapsed": false
   },
   "outputs": [
    {
     "name": "stdout",
     "output_type": "stream",
     "text": [
      "0.111111111111\n",
      "[[ 4  7 10]]\n"
     ]
    }
   ],
   "source": [
    "print fit.min()\n",
    "print ptt[bestT]"
   ]
  },
  {
   "cell_type": "code",
   "execution_count": 168,
   "metadata": {
    "collapsed": false
   },
   "outputs": [
    {
     "data": {
      "image/png": "[encoded data removed]",
      "text/plain": [
       "<matplotlib.figure.Figure at 0x28f44cc0>"
      ]
     },
     "metadata": {},
     "output_type": "display_data"
    }
   ],
   "source": [
    "# Performnace measure\n",
    "cpuPer.append(psutil.cpu_percent())\n",
    "memPer.append(psutil.virtual_memory()[2])\n",
    "#------------------------------------------\n",
    "\n",
    "#markers_on = [fit.min()]\n",
    "plt.plot(fit)\n",
    "plt.scatter(bestT[0][0],fit.min(),color=\"Green\")\n",
    "plt.ylabel('T-Values')\n",
    "plt.savefig('g1.png', dpi = 300)\n",
    "plt.show()"
   ]
  },
  {
   "cell_type": "code",
   "execution_count": 169,
   "metadata": {
    "collapsed": true
   },
   "outputs": [],
   "source": [
    "# Performnace measure\n",
    "cpuPer.append(psutil.cpu_percent())\n",
    "memPer.append(psutil.virtual_memory()[2])\n",
    "#------------------------------------------"
   ]
  },
  {
   "cell_type": "code",
   "execution_count": 170,
   "metadata": {
    "collapsed": false
   },
   "outputs": [
    {
     "data": {
      "text/plain": [
       "[10.7, 50.0, 51.5, 55.6, 20.0, 29.4, 42.9, 42.1, 26.5]"
      ]
     },
     "execution_count": 170,
     "metadata": {},
     "output_type": "execute_result"
    }
   ],
   "source": [
    "cpuPer"
   ]
  },
  {
   "cell_type": "code",
   "execution_count": 171,
   "metadata": {
    "collapsed": false
   },
   "outputs": [
    {
     "data": {
      "image/png": "[encoded data removed]",
      "text/plain": [
       "<matplotlib.figure.Figure at 0x29ebd6a0>"
      ]
     },
     "metadata": {},
     "output_type": "display_data"
    }
   ],
   "source": [
    "plt.plot(cpuPer)\n",
    "plt.ylabel('Cpu Performance')\n",
    "plt.savefig('p1.png', dpi = 300)\n",
    "plt.show()"
   ]
  },
  {
   "cell_type": "code",
   "execution_count": 172,
   "metadata": {
    "collapsed": false
   },
   "outputs": [
    {
     "data": {
      "image/png": "[encoded data removed]",
      "text/plain": [
       "<matplotlib.figure.Figure at 0x72521208>"
      ]
     },
     "metadata": {},
     "output_type": "display_data"
    }
   ],
   "source": [
    "plt.plot(memPer)\n",
    "plt.ylabel('Memory Performance')\n",
    "plt.savefig('p2.png', dpi = 300)\n",
    "plt.show()"
   ]
  }
 ],
 "metadata": {
  "kernelspec": {
   "display_name": "Python 2",
   "language": "python",
   "name": "python2"
  },
  "language_info": {
   "codemirror_mode": {
    "name": "ipython",
    "version": 2
   },
   "file_extension": ".py",
   "mimetype": "text/x-python",
   "name": "python",
   "nbconvert_exporter": "python",
   "pygments_lexer": "ipython2",
   "version": "2.7.13"
  }
 },
 "nbformat": 4,
 "nbformat_minor": 2
}
