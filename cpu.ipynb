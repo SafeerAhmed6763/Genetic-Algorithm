{
 "cells": [
  {
   "cell_type": "code",
   "execution_count": 2,
   "metadata": {
    "collapsed": false
   },
   "outputs": [
    {
     "name": "stdout",
     "output_type": "stream",
     "text": [
      "('memory use:', 0.08290863037109375)\n"
     ]
    }
   ],
   "source": [
    "import os\n",
    "import psutil\n",
    "pid = os.getpid()\n",
    "py = psutil.Process(pid)\n",
    "memoryUse = py.memory_info()[0]/2.**30  # memory use in GB...I think\n",
    "print('memory use:', memoryUse)"
   ]
  },
  {
   "cell_type": "code",
   "execution_count": 3,
   "metadata": {
    "collapsed": false
   },
   "outputs": [
    {
     "name": "stdout",
     "output_type": "stream",
     "text": [
      "9.7\n",
      "svmem(total=7978725376L, available=3984711680L, percent=50.1, used=3994013696L, free=3984711680L)\n"
     ]
    }
   ],
   "source": [
    "from __future__ import print_function\n",
    "import psutil\n",
    "print(psutil.cpu_percent())\n",
    "print(psutil.virtual_memory()) #  physical memory usage"
   ]
  },
  {
   "cell_type": "code",
   "execution_count": null,
   "metadata": {
    "collapsed": true
   },
   "outputs": [],
   "source": []
  }
 ],
 "metadata": {
  "kernelspec": {
   "display_name": "Python 2",
   "language": "python",
   "name": "python2"
  }
 },
 "nbformat": 4,
 "nbformat_minor": 2
}
